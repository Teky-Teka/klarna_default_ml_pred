{
 "cells": [
  {
   "cell_type": "markdown",
   "id": "75efa56c-6e91-4d57-aa9b-b3cb58d685ec",
   "metadata": {},
   "source": [
    "# Machine Learning Klarna `Default` Probabability Prediction"
   ]
  },
  {
   "cell_type": "markdown",
   "id": "1d3f871e-e4b2-46a3-ba02-49f55abb7920",
   "metadata": {},
   "source": [
    "## Project Setup"
   ]
  },
  {
   "cell_type": "markdown",
   "id": "bca20aca-44dd-43b4-97e0-f6f53ae01104",
   "metadata": {
    "tags": []
   },
   "source": [
    "### Dependencies importing"
   ]
  },
  {
   "cell_type": "code",
   "execution_count": 1,
   "id": "62625410-5475-4633-bc3c-9dcce7e33f8b",
   "metadata": {},
   "outputs": [],
   "source": [
    "# Auto reload imported module every time a jupyter cell is executed\n",
    "%load_ext autoreload\n",
    "%autoreload 2"
   ]
  },
  {
   "cell_type": "code",
   "execution_count": 2,
   "id": "c9bb17bd-844b-43fb-bef6-6736c3143ced",
   "metadata": {},
   "outputs": [
    {
     "ename": "ModuleNotFoundError",
     "evalue": "No module named 'klarna_default_ml_pred'",
     "output_type": "error",
     "traceback": [
      "\u001b[0;31m---------------------------------------------------------------------------\u001b[0m",
      "\u001b[0;31mModuleNotFoundError\u001b[0m                       Traceback (most recent call last)",
      "\u001b[0;32m/var/folders/hz/t9cq46wj2zl48zr3_0lc0rw80000gn/T/ipykernel_76101/2169324138.py\u001b[0m in \u001b[0;36m<module>\u001b[0;34m\u001b[0m\n\u001b[1;32m      2\u001b[0m \u001b[0;32mimport\u001b[0m \u001b[0mpandas\u001b[0m \u001b[0;32mas\u001b[0m \u001b[0mpd\u001b[0m\u001b[0;34m\u001b[0m\u001b[0;34m\u001b[0m\u001b[0m\n\u001b[1;32m      3\u001b[0m \u001b[0;34m\u001b[0m\u001b[0m\n\u001b[0;32m----> 4\u001b[0;31m \u001b[0;32mfrom\u001b[0m \u001b[0mklarna_default_ml_pred\u001b[0m\u001b[0;34m.\u001b[0m\u001b[0mz_utils\u001b[0m \u001b[0;32mimport\u001b[0m \u001b[0mproject\u001b[0m \u001b[0;32mas\u001b[0m \u001b[0muz\u001b[0m\u001b[0;34m\u001b[0m\u001b[0;34m\u001b[0m\u001b[0m\n\u001b[0m",
      "\u001b[0;31mModuleNotFoundError\u001b[0m: No module named 'klarna_default_ml_pred'"
     ]
    }
   ],
   "source": [
    "import numpy as np\n",
    "import pandas as pd\n",
    "\n",
    "from klarna_default_ml_pred.z_utils import project as uz"
   ]
  },
  {
   "cell_type": "markdown",
   "id": "f98a0a5c-1668-4731-9726-e92860da4682",
   "metadata": {},
   "source": [
    "## Data sourcing"
   ]
  },
  {
   "cell_type": "markdown",
   "id": "fb0e63fd-8197-441c-9daf-aa1ca5453bb5",
   "metadata": {},
   "source": [
    "#### **Read URL**, **Get CSV files** and **store CSV in local**  *(optional do it at begining or to refresh CSV data)*"
   ]
  },
  {
   "cell_type": "markdown",
   "id": "5c0917c2-2c3e-477f-8122-8a0d0a4a52d9",
   "metadata": {},
   "source": [
    "#### **Read raw CSV** and **Set dataframe**"
   ]
  },
  {
   "cell_type": "code",
   "execution_count": 3,
   "id": "84039ba3-f87c-4505-b4bc-2cc5d93b0c32",
   "metadata": {},
   "outputs": [
    {
     "ename": "SyntaxError",
     "evalue": "unexpected EOF while parsing (3856807672.py, line 1)",
     "output_type": "error",
     "traceback": [
      "\u001b[0;36m  File \u001b[0;32m\"/var/folders/hz/t9cq46wj2zl48zr3_0lc0rw80000gn/T/ipykernel_76101/3856807672.py\"\u001b[0;36m, line \u001b[0;32m1\u001b[0m\n\u001b[0;31m    data_raw = pd.read_csv(uz\u001b[0m\n\u001b[0m                             ^\u001b[0m\n\u001b[0;31mSyntaxError\u001b[0m\u001b[0;31m:\u001b[0m unexpected EOF while parsing\n"
     ]
    }
   ],
   "source": [
    "data_raw = pd.read_csv(uz"
   ]
  },
  {
   "cell_type": "code",
   "execution_count": null,
   "id": "129084a8-d4a1-4b55-a1a1-51a7689838b5",
   "metadata": {},
   "outputs": [],
   "source": []
  }
 ],
 "metadata": {
  "kernelspec": {
   "display_name": "Python 3 (ipykernel)",
   "language": "python",
   "name": "python3"
  },
  "language_info": {
   "codemirror_mode": {
    "name": "ipython",
    "version": 3
   },
   "file_extension": ".py",
   "mimetype": "text/x-python",
   "name": "python",
   "nbconvert_exporter": "python",
   "pygments_lexer": "ipython3",
   "version": "3.8.12"
  }
 },
 "nbformat": 4,
 "nbformat_minor": 5
}
